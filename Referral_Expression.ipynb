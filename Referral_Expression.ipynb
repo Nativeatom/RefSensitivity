{
  "cells": [
    {
      "cell_type": "markdown",
      "metadata": {
        "id": "view-in-github",
        "colab_type": "text"
      },
      "source": [
        "<a href=\"https://colab.research.google.com/github/Nativeatom/RefSensitivity/blob/main/Referral_Expression.ipynb\" target=\"_parent\"><img src=\"https://colab.research.google.com/assets/colab-badge.svg\" alt=\"Open In Colab\"/></a>"
      ]
    },
    {
      "cell_type": "code",
      "execution_count": null,
      "metadata": {
        "id": "v8jpt4hJSa-P"
      },
      "outputs": [],
      "source": [
        "proj_path = \"/content/Referal_expr\""
      ]
    },
    {
      "cell_type": "code",
      "execution_count": 1,
      "metadata": {
        "id": "RI_sDeRboZVv"
      },
      "outputs": [],
      "source": [
        "import os\n",
        "from os.path import join\n",
        "import json\n",
        "import itertools\n",
        "import random\n",
        "import pdb"
      ]
    },
    {
      "cell_type": "code",
      "execution_count": 25,
      "metadata": {
        "id": "B7z7BAAkApl1",
        "colab": {
          "base_uri": "https://localhost:8080/",
          "height": 35
        },
        "outputId": "ecab37b6-8dea-474a-d404-3211ef91076e"
      },
      "outputs": [
        {
          "output_type": "execute_result",
          "data": {
            "text/plain": [
              "'1.12.1+cu113'"
            ],
            "application/vnd.google.colaboratory.intrinsic+json": {
              "type": "string"
            }
          },
          "metadata": {},
          "execution_count": 25
        }
      ],
      "source": [
        "import torch\n",
        "torch.__version__"
      ]
    },
    {
      "cell_type": "code",
      "execution_count": null,
      "metadata": {
        "id": "clfpmLYnsI4j"
      },
      "outputs": [],
      "source": [
        "!nvcc -V"
      ]
    },
    {
      "cell_type": "code",
      "execution_count": null,
      "metadata": {
        "id": "09yWf_DqqOCk"
      },
      "outputs": [],
      "source": [
        "!pip uninstall torch\n",
        "!pip install torch==1.9.0+cu111 torchvision==0.10.0+cu111 torchaudio==0.9.0 -f https://download.pytorch.org/whl/torch_stable.html"
      ]
    },
    {
      "cell_type": "code",
      "execution_count": null,
      "metadata": {
        "colab": {
          "background_save": true
        },
        "id": "6o_zy0LsobXL"
      },
      "outputs": [],
      "source": [
        "!bash /content/Referal_expr/setup.sh"
      ]
    },
    {
      "cell_type": "code",
      "execution_count": null,
      "metadata": {
        "id": "vX08mvXhoicm"
      },
      "outputs": [],
      "source": [
        "!bash /content/Referal_expr/mscoco_setup.sh"
      ]
    },
    {
      "cell_type": "code",
      "execution_count": null,
      "metadata": {
        "id": "cvbTPrHl3eYD"
      },
      "outputs": [],
      "source": [
        "import sys\n",
        "sys.path.append(\"/content/GLIP\")\n",
        "from maskrcnn_benchmark.config import cfg\n",
        "from maskrcnn_benchmark.engine.predictor_glip import GLIPDemo"
      ]
    },
    {
      "cell_type": "code",
      "execution_count": null,
      "metadata": {
        "id": "_lvZTxp43W1P",
        "colab": {
          "base_uri": "https://localhost:8080/",
          "height": 240
        },
        "outputId": "eec4584c-82b5-4bf6-ed15-7b22a1c02b31"
      },
      "outputs": [
        {
          "output_type": "error",
          "ename": "NameError",
          "evalue": "ignored",
          "traceback": [
            "\u001b[0;31m---------------------------------------------------------------------------\u001b[0m",
            "\u001b[0;31mNameError\u001b[0m                                 Traceback (most recent call last)",
            "\u001b[0;32m<ipython-input-4-9db6f5880fed>\u001b[0m in \u001b[0;36m<module>\u001b[0;34m\u001b[0m\n\u001b[1;32m      2\u001b[0m \u001b[0mweight_file\u001b[0m \u001b[0;34m=\u001b[0m \u001b[0;34m\"GLIP/MODEL/glip_tiny_model_o365_goldg_cc_sbu.pth\"\u001b[0m\u001b[0;34m\u001b[0m\u001b[0;34m\u001b[0m\u001b[0m\n\u001b[1;32m      3\u001b[0m \u001b[0;34m\u001b[0m\u001b[0m\n\u001b[0;32m----> 4\u001b[0;31m \u001b[0mcfg\u001b[0m\u001b[0;34m.\u001b[0m\u001b[0mlocal_rank\u001b[0m \u001b[0;34m=\u001b[0m \u001b[0;36m0\u001b[0m\u001b[0;34m\u001b[0m\u001b[0;34m\u001b[0m\u001b[0m\n\u001b[0m\u001b[1;32m      5\u001b[0m \u001b[0mcfg\u001b[0m\u001b[0;34m.\u001b[0m\u001b[0mnum_gpus\u001b[0m \u001b[0;34m=\u001b[0m \u001b[0;36m1\u001b[0m\u001b[0;34m\u001b[0m\u001b[0;34m\u001b[0m\u001b[0m\n\u001b[1;32m      6\u001b[0m \u001b[0mcfg\u001b[0m\u001b[0;34m.\u001b[0m\u001b[0mmerge_from_file\u001b[0m\u001b[0;34m(\u001b[0m\u001b[0mconfig_file\u001b[0m\u001b[0;34m)\u001b[0m\u001b[0;34m\u001b[0m\u001b[0;34m\u001b[0m\u001b[0m\n",
            "\u001b[0;31mNameError\u001b[0m: name 'cfg' is not defined"
          ]
        }
      ],
      "source": [
        "config_file = \"GLIP/configs/pretrain/glip_Swin_T_O365_GoldG.yaml\"\n",
        "weight_file = \"GLIP/MODEL/glip_tiny_model_o365_goldg_cc_sbu.pth\"\n",
        "\n",
        "cfg.local_rank = 0\n",
        "cfg.num_gpus = 1\n",
        "cfg.merge_from_file(config_file)\n",
        "cfg.merge_from_list([\"MODEL.WEIGHT\", weight_file])\n",
        "cfg.merge_from_list([\"MODEL.DEVICE\", \"cuda\"])\n",
        "\n",
        "glip_demo = GLIPDemo(\n",
        "    cfg,\n",
        "    min_image_size=800,\n",
        "    confidence_threshold=0.7,\n",
        "    show_mask_heatmaps=False\n",
        ")"
      ]
    },
    {
      "cell_type": "code",
      "execution_count": 2,
      "metadata": {
        "id": "c08wls90_yLT"
      },
      "outputs": [],
      "source": [
        "def load(url, local=False):\n",
        "    \"\"\"\n",
        "    Given an url of an image, downloads the image and\n",
        "    returns a PIL image\n",
        "    \"\"\"\n",
        "    if local:\n",
        "      pil_image = Image.open(url).convert(\"RGB\")\n",
        "    else:\n",
        "      response = requests.get(url)\n",
        "      pil_image = Image.open(BytesIO(response.content)).convert(\"RGB\")\n",
        "    # convert to BGR format\n",
        "    image = np.array(pil_image)[:, :, [2, 1, 0]]\n",
        "    return image\n",
        "\n",
        "def imshow(img, caption):\n",
        "    plt.imshow(img[:, :, [2, 1, 0]])\n",
        "    plt.axis(\"off\")\n",
        "    plt.figtext(0.5, 0.09, caption, wrap=True, horizontalalignment='center', fontsize=20)\n",
        "\n",
        "def edge2bbox(edge):\n",
        "  x, y, w, h = edge\n",
        "  return x, y, x+w, y+h"
      ]
    },
    {
      "cell_type": "code",
      "execution_count": 3,
      "metadata": {
        "id": "SVsHaNBptsSb"
      },
      "outputs": [],
      "source": [
        "import zipfile\n",
        "import io\n",
        "from io import BytesIO\n",
        "import requests\n",
        "import matplotlib.pyplot as plt\n",
        "import matplotlib.image as mpimg\n",
        "import matplotlib.pylab as pylab\n",
        "\n",
        "from PIL import Image\n",
        "import cv2\n",
        "from google.colab.patches import cv2_imshow\n",
        "import numpy as np\n",
        "import time\n",
        "import pdb\n",
        "import re\n",
        "\n",
        "import torchvision.ops.boxes as bops\n",
        "pylab.rcParams['figure.figsize'] = 20, 12"
      ]
    },
    {
      "cell_type": "code",
      "source": [
        "from google.colab import drive\n",
        "drive.mount('/content/drive')"
      ],
      "metadata": {
        "id": "U7M5DhawXtT8",
        "colab": {
          "base_uri": "https://localhost:8080/"
        },
        "outputId": "b5cf3627-2d4a-45e0-d450-06c5d0bf50c7"
      },
      "execution_count": 4,
      "outputs": [
        {
          "output_type": "stream",
          "name": "stdout",
          "text": [
            "Mounted at /content/drive\n"
          ]
        }
      ]
    },
    {
      "cell_type": "code",
      "execution_count": null,
      "metadata": {
        "id": "RQjsmzyTtzyI"
      },
      "outputs": [],
      "source": [
        "save_path = \"/content/drive/MyDrive/Referal_expr/data/CLEVR\""
      ]
    },
    {
      "cell_type": "code",
      "execution_count": null,
      "metadata": {
        "id": "1h2L0pWOtv7D"
      },
      "outputs": [],
      "source": [
        "# https://www.geeksforgeeks.org/download-anything-to-google-drive-using-google-colab/\n",
        "file_url = \"https://www.cs.jhu.edu/~cxliu/data/clevr_ref+_1.0.zip\"\n",
        "    \n",
        "r = requests.get(file_url, stream = True) \n",
        "\n",
        "with open(join(save_path, \"clevr_ref+_1.0.zip\"), \"wb\") as file: \n",
        "    for block in r.iter_content(chunk_size = 1024):\n",
        "         if block: \n",
        "             file.write(block) "
      ]
    },
    {
      "cell_type": "code",
      "execution_count": null,
      "metadata": {
        "id": "X5LnqwaBsoJ0"
      },
      "outputs": [],
      "source": [
        "# Download and load the validation split of COCO-2017\n",
        "dataset = foz.load_zoo_dataset(\"coco-2017\", split=\"validation\")\n",
        "\n",
        "save_path = \"/content/gdrive/MyDrive/Profile/Projects/NLP/Proposition\"\n",
        "all_data_info = {}\n",
        "\n",
        "for file in os.listdir(save_path):\n",
        "  if file.endswith(\".json\"):\n",
        "    with open(join(save_path, file), \"r\") as fp:\n",
        "      data = [json.loads(x) for x in fp.readlines()]\n",
        "      all_data_info[file.replace(\".json\", \"\")] = data\n",
        "\n",
        "list(all_data_info.keys())"
      ]
    },
    {
      "cell_type": "code",
      "source": [
        "import time\n",
        "for i in range(300):\n",
        "  print(i)\n",
        "\n",
        "  time.sleep(60)"
      ],
      "metadata": {
        "id": "TjfOminTjuHF"
      },
      "execution_count": null,
      "outputs": []
    },
    {
      "cell_type": "code",
      "source": [
        "! gdown https://drive.google.com/uc?id=1UVLw5dKpgSGCOt2sha1d1Ezgpvlhf3G6"
      ],
      "metadata": {
        "id": "frdw6W0acDLr"
      },
      "execution_count": null,
      "outputs": []
    },
    {
      "cell_type": "code",
      "execution_count": 5,
      "metadata": {
        "id": "2Q5NcSqw8-xG"
      },
      "outputs": [],
      "source": [
        "save_path = \"/content/drive/MyDrive/Profile/Projects/NLP/Proposition/data\"\n",
        "\n",
        "refexps = 'clevr_ref+_1.0/refexps/clevr_ref+_train_refexps.json'\n",
        "\n",
        "scene_file = 'clevr_ref+_1.0/scenes/clevr_ref+_val_scenes.json'\n",
        "\n",
        "archive = zipfile.ZipFile(join(save_path, \"clevr_ref+_1.0.zip\"), 'r')\n",
        "\n",
        "refexp_data = archive.read(scene_file)\n",
        "\n",
        "refexp_data_str = refexp_data.decode('utf8')\n",
        "\n",
        "refexp_data_json = json.loads(refexp_data_str)\n",
        "\n",
        "# with open(join(save_path, \"clevr_ref+_train_refexps.json\"), \"w\") as fp:\n",
        "#   json.dump(refexp_data_json, fp)\n",
        "\n",
        "# with open(join(save_path, \"clevr_ref+_train_scenes.json\"), \"w\") as fp:\n",
        "#   json.dump(refexp_data_json, fp)"
      ]
    },
    {
      "cell_type": "code",
      "execution_count": null,
      "metadata": {
        "id": "HqfejsG7AHlq",
        "colab": {
          "base_uri": "https://localhost:8080/"
        },
        "outputId": "fa9327ae-1484-4818-f8ee-e7eadd5c0294"
      },
      "outputs": [
        {
          "output_type": "stream",
          "name": "stdout",
          "text": [
            "CLEVR_val_000000.png\n"
          ]
        }
      ],
      "source": [
        "idx = 0\n",
        "scene_info = refexp_data_json['scenes'][idx]\n",
        "img_name = scene_info['image_filename']\n",
        "sample_file = 'clevr_ref+_1.0/images/val/{}'.format(img_name)\n",
        "imgdata = archive.read(sample_file)\n",
        "print(img_name)"
      ]
    },
    {
      "cell_type": "code",
      "source": [
        "# create a pygame-compatible file-like object from the bytes\n",
        "print(img_name)\n",
        "# load the video scene\n",
        "# img = pygame.image.load(bytes_io)\n",
        "\n",
        "for obj in scene_info['objects']:\n",
        "  bbox = scene_info['obj_bbox'][str(obj['idx'])]\n",
        "  other_bboxes = [v for k, v in scene_info['obj_bbox'].items() if k != str(obj['idx'])]\n",
        "\n",
        "  # bounding boxes that is in front of the target bbox\n",
        "  other_bboxes_front = [edge2bbox(oth_bbox) for oth_bbox in other_bboxes if oth_bbox[1] < bbox[1]]\n",
        "  max_iou = 0\n",
        "  if len(other_bboxes_front):\n",
        "    ious = bops.box_iou(torch.FloatTensor(other_bboxes_front), torch.FloatTensor(edge2bbox(bbox)).unsqueeze(0).repeat(len(other_bboxes_front), 1)).mean(1)\n",
        "    max_iou = torch.max(ious).item()\n",
        "\n",
        "  # read image\n",
        "  # cv_img = cv2.imread(img_name)\n",
        "  x, y, w, h = bbox\n",
        "\n",
        "  bytes_io = io.BytesIO(imgdata)\n",
        "\n",
        "  # https://stackoverflow.com/questions/64099834/how-can-i-display-an-image-in-python-thats-represented-as-an-array-of-bytes-wit\n",
        "  with bytes_io:\n",
        "      img = mpimg.imread(bytes_io, format='jpeg')\n",
        "\n",
        "  cv2.rectangle(img, (int(x), int(y)), (int(x+w), int(y+h)), (255, 0, 0), 2)\n",
        "  cv2_imshow(img)\n",
        "  # plt.imshow(img)\n",
        "  # plt.show()\n",
        "  print(\"\\n\")"
      ],
      "metadata": {
        "id": "dGNEwJfQgO7M",
        "colab": {
          "base_uri": "https://localhost:8080/",
          "height": 257
        },
        "outputId": "6e5c82ad-1f21-412a-fbcd-ede98497e935"
      },
      "execution_count": null,
      "outputs": [
        {
          "output_type": "stream",
          "name": "stdout",
          "text": [
            "CLEVR_val_000299.png\n"
          ]
        },
        {
          "output_type": "error",
          "ename": "NameError",
          "evalue": "ignored",
          "traceback": [
            "\u001b[0;31m---------------------------------------------------------------------------\u001b[0m",
            "\u001b[0;31mNameError\u001b[0m                                 Traceback (most recent call last)",
            "\u001b[0;32m<ipython-input-23-46dbd766729a>\u001b[0m in \u001b[0;36m<module>\u001b[0;34m\u001b[0m\n\u001b[1;32m     19\u001b[0m   \u001b[0mx\u001b[0m\u001b[0;34m,\u001b[0m \u001b[0my\u001b[0m\u001b[0;34m,\u001b[0m \u001b[0mw\u001b[0m\u001b[0;34m,\u001b[0m \u001b[0mh\u001b[0m \u001b[0;34m=\u001b[0m \u001b[0mbbox\u001b[0m\u001b[0;34m\u001b[0m\u001b[0;34m\u001b[0m\u001b[0m\n\u001b[1;32m     20\u001b[0m \u001b[0;34m\u001b[0m\u001b[0m\n\u001b[0;32m---> 21\u001b[0;31m   \u001b[0mbytes_io\u001b[0m \u001b[0;34m=\u001b[0m \u001b[0mio\u001b[0m\u001b[0;34m.\u001b[0m\u001b[0mBytesIO\u001b[0m\u001b[0;34m(\u001b[0m\u001b[0mimgdata\u001b[0m\u001b[0;34m)\u001b[0m\u001b[0;34m\u001b[0m\u001b[0;34m\u001b[0m\u001b[0m\n\u001b[0m\u001b[1;32m     22\u001b[0m \u001b[0;34m\u001b[0m\u001b[0m\n\u001b[1;32m     23\u001b[0m   \u001b[0;31m# https://stackoverflow.com/questions/64099834/how-can-i-display-an-image-in-python-thats-represented-as-an-array-of-bytes-wit\u001b[0m\u001b[0;34m\u001b[0m\u001b[0;34m\u001b[0m\u001b[0;34m\u001b[0m\u001b[0m\n",
            "\u001b[0;31mNameError\u001b[0m: name 'imgdata' is not defined"
          ]
        }
      ]
    },
    {
      "cell_type": "code",
      "source": [
        "# https://github.com/facebookresearch/clevr-dataset-gen/blob/f0ce2c81750bfae09b5bf94d009f42e055f2cb3a/image_generation/render_images.py#L290\n",
        "scene_info['directions']"
      ],
      "metadata": {
        "id": "OgSi-ZZQoC6N",
        "colab": {
          "base_uri": "https://localhost:8080/"
        },
        "outputId": "d33b016d-66a6-47d8-f58c-4dd185f0388c"
      },
      "execution_count": null,
      "outputs": [
        {
          "output_type": "execute_result",
          "data": {
            "text/plain": [
              "{'right': [0.6563112735748291, 0.7544902563095093, -0.0],\n",
              " 'below': [-0.0, -0.0, -1.0],\n",
              " 'behind': [-0.754490315914154, 0.6563112735748291, 0.0],\n",
              " 'above': [0.0, 0.0, 1.0],\n",
              " 'front': [0.754490315914154, -0.6563112735748291, -0.0],\n",
              " 'left': [-0.6563112735748291, -0.7544902563095093, 0.0]}"
            ]
          },
          "metadata": {},
          "execution_count": 11
        }
      ]
    },
    {
      "cell_type": "code",
      "source": [
        "# max rotation to mantain the object facing the viewer\n",
        "max_face_rotation_degree = 30\n",
        "\n",
        "attrs_placeholder = {\n",
        "    \"rotation\":  \"<R>\",\n",
        "    \"shape\": \"<S>\",\n",
        "    \"size\": \"<Z>\",\n",
        "    \"material\": \"<M>\"\n",
        "}\n",
        "\n",
        "def color_group(x):\n",
        "  return x['color']\n",
        "\n",
        "def material_group(x):\n",
        "  return x['material']\n",
        "\n",
        "def shape_group(x):\n",
        "  return x['shape']\n",
        "\n",
        "def size_group(x):\n",
        "  return x['size']\n",
        "\n",
        "def rotation_group(x):\n",
        "  # binary split of rotation\n",
        "  # 90 degree rotation is equivalent to the 270 degree rotation given the shapes.\n",
        "  # Not distinguishable for cubes.\n",
        "  x = x[\"rotation\"] % 90\n",
        "  return x < max_face_rotation_degree\n",
        "\n",
        "def collect_ambiguous_objects(scene, properties=['color', 'material', 'shape', 'size', 'rotation']):\n",
        "\n",
        "  group_funcs = {\n",
        "      \"color\": color_group,\n",
        "      \"material\": material_group,\n",
        "      \"shape\": shape_group,\n",
        "      \"size\": size_group,\n",
        "      \"rotation\": rotation_group\n",
        "  }\n",
        "\n",
        "  ambgs_obj_by_property = {}\n",
        "\n",
        "  objects = scene['objects']\n",
        "\n",
        "  for prprty in properties:\n",
        "    if prprty == \"rotation\":\n",
        "      # https://github.com/facebookresearch/clevr-dataset-gen/blob/f0ce2c81750bfae09b5bf94d009f42e055f2cb3a/image_generation/render_images.py#L411\n",
        "      eligible_objects = [obj for obj in objects if obj['shape'] in ['cube']]\n",
        "      ambgs_obj_by_property[prprty] = {\"is_ambiguous\": False, \"attrs\": None}\n",
        "      \n",
        "      if len(eligible_objects) > 1:\n",
        "        groupdict = {k: list(g) for k, g in itertools.groupby(eligible_objects, group_funcs[prprty])}\n",
        "        ambiguous_attrs = [[k, v] for k, v in groupdict.items() if len(v) > 1]\n",
        "        if len(ambiguous_attrs) > 1:\n",
        "          for ambiguous_attr in ambiguous_attrs:\n",
        "            ambgs_obj_by_property[prprty][\"attrs\"][ambiguous_attr[0]] = ambiguous_attr[1]\n",
        "        \n",
        "    else:\n",
        "      groupdict = {k: list(g) for k, g in itertools.groupby(objects, group_funcs[prprty])}\n",
        "      ambiguous_attrs = [[k, v] for k, v in groupdict.items() if len(v) > 1]\n",
        "      if len(ambiguous_attrs) > 1:\n",
        "        ambgs_obj_by_property[prprty] = {\"is_ambiguous\": True, \"attrs\": {}}\n",
        "\n",
        "        for ambiguous_attr in ambiguous_attrs:\n",
        "          ambgs_obj_by_property[prprty][\"attrs\"][ambiguous_attr[0]] = ambiguous_attr[1]\n",
        "      \n",
        "      else:\n",
        "        ambgs_obj_by_property[prprty] = {\"is_ambiguous\": False, \"attrs\": None}\n",
        "  return ambgs_obj_by_property\n",
        "\n",
        "\n",
        "def get_distance_from_coords(src_coords, trg_corrds, direction=None):\n",
        "  # https://github.com/facebookresearch/clevr-dataset-gen/blob/f0ce2c81750bfae09b5bf94d009f42e055f2cb3a/image_generation/utils.py#L45\n",
        "  distance = [(x - y)**2 for x, y in zip(src_coords, trg_corrds)]\n",
        "\n",
        "  if direction is None:\n",
        "    return np.sqrt(np.sum(distance))\n",
        "  elif direction in ['left', 'right']:\n",
        "    return np.sqrt(distance[0])\n",
        "  elif direction in ['front', 'behind']:\n",
        "    return np.sqrt(distance[2])\n",
        "\n",
        "def collect_src_obj_dis_info(src_obj, trg_obj, all_src_objs, surroundings):\n",
        "  # the relative information for the src obj correspondes to the trg obj\n",
        "\n",
        "  dirc_reverse = {\n",
        "      \"left\": \"right\",\n",
        "      \"right\": \"left\",\n",
        "      \"front\": \"behind\",\n",
        "      \"behind\": \"front\"\n",
        "  }\n",
        "\n",
        "  # to record, number of closer src objects in the direction (more objects, more confusing)\n",
        "  src_obj_info = {}\n",
        "\n",
        "  for direc, surround_objects in surroundings.items():\n",
        "    surround_object_ids = [x + 1 for x in surround_objects]\n",
        "    in_direction = src_obj['idx'] in surround_object_ids\n",
        "\n",
        "    direction = dirc_reverse[direc]\n",
        "\n",
        "    distance = np.inf\n",
        "\n",
        "    src_obj_info[direction] = {\"in_direction\": in_direction}\n",
        "\n",
        "    if in_direction:\n",
        "      # other ambiguous objects are not included\n",
        "      eligible_src_obj = [x for x in all_src_objs if x['idx'] in surround_object_ids]\n",
        "\n",
        "      if len(eligible_src_obj):\n",
        "        all_src_obj_distances = [(x['idx'], get_distance_from_coords(x['pixel_coords'], trg_obj['pixel_coords'], direction)) for x in eligible_src_obj]\n",
        "\n",
        "        all_src_obj_distances_sort = sorted(all_src_obj_distances, key=lambda x:x[1])\n",
        "        num_other_src_obj_closer = [x[0] for x in all_src_obj_distances_sort].index(src_obj['idx'])\n",
        "\n",
        "        src_obj_info[direction]['dis_pixel'] = all_src_obj_distances_sort[num_other_src_obj_closer][1]\n",
        "        src_obj_info[direction]['num_closer_obj'] = num_other_src_obj_closer\n",
        "      else:\n",
        "        # no other objects are closer to the trg object\n",
        "        dis_pixel = get_distance_from_coords(src_obj['pixel_coords'], trg_obj['pixel_coords'], direction)\n",
        "        src_obj_info[direction]['dis_pixel'] = dis_pixel\n",
        "        src_obj_info[direction]['num_closer_obj'] = 0\n",
        "    else:\n",
        "      src_obj_info[direction]['dis_pixel'] = distance\n",
        "\n",
        "  # the rank of directions by closeness, starts from 1, more further, more visually distinguishable\n",
        "  for dir_rank, dir_info in enumerate(sorted(src_obj_info.items(), key=lambda x:x[1]['dis_pixel'])):\n",
        "    src_obj_info[dir_info[0]]['dir_rank'] = dir_rank + 1\n",
        "  return src_obj_info\n",
        "\n",
        "\n",
        "def generate_src_expr(src_obj, src_objs_by_dirc, \n",
        "                      num_src_attr=1, sort_dirc=False,\n",
        "                      properties=[\"color\", \"material\", \"size\"]):\n",
        "  # num_attr_trg_obj\n",
        "  # num_attr_src_obj\n",
        "\n",
        "  exprs = []\n",
        "\n",
        "  num_src_attr = min(num_src_attr, len(properties))\n",
        "\n",
        "  for dirc, info in src_objs_by_dirc.items():\n",
        "    if not info['in_direction']:\n",
        "      continue\n",
        "\n",
        "    template = \"that is {} to the [SRC_OBJ].\".format(dirc)\n",
        "    relative_dis_template = \"that is {} next to the [SRC_OBJ].\".format(dirc)\n",
        "    \n",
        "    src_obj_expr = \"[DIRECTION] of [SRC_EXPR]\"\n",
        "    relative_dis_obj_expr = \"next to [SRC_EXPR]\"\n",
        "\n",
        "    src_obj_expr = src_obj_expr.replace(\"[DIRECTION]\", dirc)\n",
        "\n",
        "    # TODO: add additional properties\n",
        "    for property_ in itertools.combinations(properties, num_src_attr):\n",
        "      src_obj_attrs = [src_obj[x] for x in property_]\n",
        "      src_obj_expr = \"the {} {}\".format(\", \".join(src_obj_attrs), src_obj['shape'])\n",
        "      src_expr = src_obj_expr.replace(\"[SRC_EXPR]\", src_obj_expr)\n",
        "      relative_dis_obj_src_expr = relative_dis_obj_expr.replace(\"[SRC_EXPR]\", src_obj_expr)\n",
        "      exprs.append({\n",
        "          \"expr\": src_expr,\n",
        "          \"src_expr\": src_obj_expr,\n",
        "          \"dirc\": dirc,\n",
        "          \"dis_pixel_dirc\": info['dis_pixel'],\n",
        "          \"rank_dirc\": info['dir_rank'],\n",
        "          \"src_attr\": [property_],\n",
        "          \"num_src_attr\": num_src_attr,\n",
        "          \"relative_dis\": False,\n",
        "          \"amb_trg_obj\": False # whether the src object is ambiguous to the trg object\n",
        "          })\n",
        "\n",
        "      exprs.append({\n",
        "          \"expr\": relative_dis_obj_src_expr,\n",
        "          \"src_expr\": src_obj_expr,\n",
        "          \"dirc\": dirc,\n",
        "          \"dis_pixel_dirc\": info['dis_pixel'],\n",
        "          \"rank_dirc\": info['dir_rank'],\n",
        "          \"src_attr\": [property_],\n",
        "          \"num_src_attr\": num_src_attr,\n",
        "          \"relative_dis\": True,\n",
        "          \"amb_trg_obj\": False # whether the src object is ambiguous to the trg object\n",
        "          })\n",
        "    \n",
        "  return exprs\n",
        "\n",
        "def distinguish_obj(obj_1_info, obj_2_info):\n",
        "  # whether it is able to distinguish obj_1 and obj_2 by their expressions\n",
        "\n",
        "  # identical expressions would be rejected (strict)\n",
        "  if obj_1_info['expr'] == obj_2_info['expr']:\n",
        "    return False\n",
        "  \n",
        "  obj_1_src_obj, obj_2_src_obj = obj_1_info['src_obj'], obj_2_info['src_obj']\n",
        "\n",
        "  if len(obj_1_info['src_attr'][0]) * len(obj_2_info['src_attr'][0]) == 0:\n",
        "    # one object has no additional information other than the shape\n",
        "    return not obj_1_src_obj['shape'] == obj_2_src_obj['shape']\n",
        "\n",
        "  # TODO: compatible with only one obj in obj_1_info and obj_2_info\n",
        "  obj_attr_union = [x for x in ref_obj_1_expr['src_attr'][0] if x in ('color', 'size')]\n",
        "\n",
        "  for obj_attr in obj_attr_union:\n",
        "    if obj_1_src_obj[obj_attr] != obj_2_src_obj[obj_attr]:\n",
        "      return True\n",
        "  return False\n",
        "\n",
        "def get_max_trg_covered_iou(trg_bbox, other_front_bboxes):\n",
        "    max_iou = 0\n",
        "    if not len(other_front_bboxes):\n",
        "      return max_iou\n",
        "\n",
        "    ious = bops.box_iou(torch.FloatTensor(other_front_bboxes), torch.FloatTensor(edge2bbox(target_object_bbox)).unsqueeze(0).repeat(len(other_front_bboxes), 1)).mean(1)\n",
        "    max_iou = torch.max(ious).item()\n",
        "    return max_iou\n",
        "\n",
        "def left_and_right_between_indicator(trg_obj, ref_obj_1, ref_obj_2):\n",
        "  if ref_obj_1['pixel_coords'][0] < ref_obj_2['pixel_coords'][0]:\n",
        "    ref_obj_left, ref_obj_right = ref_obj_1, ref_obj_2\n",
        "  else:\n",
        "    ref_obj_left, ref_obj_right = ref_obj_2, ref_obj_1\n",
        "  \n",
        "  if trg_obj['pixel_coords'][0] > ref_obj_left['pixel_coords'][0] and trg_obj['pixel_coords'][0] < ref_obj_right['pixel_coords'][0]:\n",
        "    return True\n",
        "  return False"
      ],
      "metadata": {
        "id": "kpM0dRtwvgvt"
      },
      "execution_count": 6,
      "outputs": []
    },
    {
      "cell_type": "code",
      "source": [
        "# TODO: resolve the sphere, sphere"
      ],
      "metadata": {
        "id": "h-8SLeLjsydu"
      },
      "execution_count": null,
      "outputs": []
    },
    {
      "cell_type": "code",
      "source": [
        "max_num_images = 300\n",
        "\n",
        "queries_w_src_obj = []\n",
        "queries_w_trg_obj_only = []\n",
        "\n",
        "all_properties = [\"color\", \"material\", \"size\", \"rotation\"]\n",
        "\n",
        "src_properties = [\"color\", \"material\", \"size\"]\n",
        "\n",
        "dirc2expr = {\n",
        "    \"left\": \"left to\",\n",
        "    \"right\": \"right to\",\n",
        "    \"front\": \"in front of\",\n",
        "    \"behind\": \"behind\"\n",
        "}\n",
        "\n",
        "# direction_only\n",
        "\n",
        "# order of src objects\n",
        "# random: random order\n",
        "# distance: from closet to furthest\n",
        "# distance_reverse: from furthest to closet\n",
        "\n",
        "# direction+distance: e.g. far behind/near behind\n",
        "\n",
        "src_obj_order = \"random\"\n",
        "\n",
        "# if True, place the direction with least distance to the last, otherwise random\n",
        "sort_direction = False\n",
        "\n",
        "# pixel means the pixel coordinates is used for calculate distance, o/w the \n",
        "# real 3d coordinates are used.\n",
        "dist_coord = \"pixel\"\n",
        "\n",
        "num_ref_attr_pattern = \"(.*)num_ref_attr=([0-9]+)(.*)\"\n",
        "\n",
        "num_amb_src_object = 0\n",
        "\n",
        "num_non_amb_src_object = 1\n",
        "\n",
        "num_trg_attr = 1\n",
        "\n",
        "# redundant information about the src object\n",
        "# redundant objects\n",
        "# redundant directions (is more than more direction satisfies)\n",
        "\n",
        "trg_object_expr = None\n",
        "\n",
        "num_avoid = 0\n",
        "\n",
        "for scene_idx in range(max_num_images):\n",
        "\n",
        "  scene_info = refexp_data_json['scenes'][scene_idx]\n",
        "  img_name = scene_info['image_filename']\n",
        "\n",
        "  assert img_name == scene_info['image_filename']\n",
        "\n",
        "  try:\n",
        "    objects_info = collect_ambiguous_objects(scene_info)\n",
        "  except:\n",
        "    continue\n",
        "\n",
        "  ambiguous_properties = [(k, v['attrs']) for k, v in objects_info.items() if v['is_ambiguous']]\n",
        "  break\n",
        "\n",
        "  for ambiguous_property in ambiguous_properties:\n",
        "\n",
        "    pprty = ambiguous_property[0]\n",
        "    other_trg_pprties = [x for x in all_properties if x != pprty]\n",
        "\n",
        "    for attr, attr_objs in ambiguous_property[1].items():\n",
        "      # print(ambiguous_property[0], attr, [x['idx'] for x in attr_objs])\n",
        "      for attr_obj_id in range(len(attr_objs)):\n",
        "        target_object = attr_objs[attr_obj_id]\n",
        "        target_object_id = target_object['idx']\n",
        "\n",
        "        other_non_target_ambiguous_objs = [x for i, x in enumerate(attr_objs) if i != attr_obj_id]\n",
        "\n",
        "        other_attrs = [target_object[x] for x in other_trg_pprties[:num_trg_attr-1]]\n",
        "        trg_attr_mention = [attr] + other_attrs\n",
        "        trg_object_expr = \"The {} {}\".format(\", \".join(trg_attr_mention), target_object['shape'])\n",
        "\n",
        "        target_object_bbox = scene_info['obj_bbox'][str(target_object_id)]\n",
        "\n",
        "        other_bboxes = [v for k, v in scene_info['obj_bbox'].items() if k != str(target_object_id)]\n",
        "\n",
        "        # bounding boxes that is in front of the target bbox\n",
        "        other_bboxes_front = [edge2bbox(oth_bbox) for oth_bbox in other_bboxes if oth_bbox[1] < target_object_bbox[1]]\n",
        "        max_iou = get_max_trg_covered_iou(target_object_bbox, other_bboxes_front)\n",
        "\n",
        "        # information: trg obj, #attr used for the trg obj, #non-unique attr used for the trg obj, #src obj, #attr for each src obj\n",
        "\n",
        "        non_target_ambiguous_objects = [x for i, x in enumerate(attr_objs) if i != attr_obj_id]\n",
        "\n",
        "        left_objs = scene_info['relationships']['left'][target_object_id - 1]\n",
        "        right_objs = scene_info['relationships']['right'][target_object_id - 1]\n",
        "        front_objs = scene_info['relationships']['front'][target_object_id - 1]\n",
        "        behind_objs = scene_info['relationships']['behind'][target_object_id - 1]\n",
        "\n",
        "        surroundings = {\n",
        "            \"left\": left_objs,\n",
        "            \"right\": right_objs,\n",
        "            \"front\": front_objs,\n",
        "            \"behind\": behind_objs\n",
        "        }\n",
        "\n",
        "        expr_info_template = {\n",
        "            \"scene_id\": scene_idx,\n",
        "            \"expr\": None,\n",
        "            \"dirc\": \"self\",\n",
        "            'dis_pixel_dirc': None, \n",
        "            'rank_dirc': None, \n",
        "            'src_attr': [], \n",
        "            'num_src_attr': 0, \n",
        "            'num_trg_attr': num_trg_attr,\n",
        "            'trg_attr': [ambiguous_property[0]] + other_trg_pprties[:num_trg_attr-1],\n",
        "            'amb_trg_obj': False, \n",
        "            'trg_obj': target_object,\n",
        "            'trg_obj_max_iou': max_iou,\n",
        "            'image_filename': img_name\n",
        "        }\n",
        "\n",
        "        if len(left_objs) == 0:\n",
        "          expr_info = expr_info_template.copy()\n",
        "          expr_info['expr'] = trg_object_expr.replace(\"The\", \"The leftmost\")\n",
        "          expr_info['note'] = \"leftmost\"\n",
        "          queries_w_trg_obj_only.append(expr_info)\n",
        "        if len(right_objs) == 0:\n",
        "          expr_info = expr_info_template.copy()\n",
        "          expr_info['expr'] = trg_object_expr.replace(\"The\", \"The rightmost\")\n",
        "          expr_info['note'] = \"rightmost\"\n",
        "          queries_w_trg_obj_only.append(expr_info)\n",
        "        if len(front_objs) == 0:\n",
        "          expr_info = expr_info_template.copy()\n",
        "          expr_info['expr'] = trg_object_expr.replace(\"The\", \"The frontmost\")\n",
        "          expr_info['note'] = \"frontmost\"\n",
        "          queries_w_trg_obj_only.append(expr_info)\n",
        "\n",
        "          expr_info = expr_info_template.copy()\n",
        "          expr_info['expr'] = trg_object_expr.replace(\"The\", \"The nearest\")\n",
        "          expr_info['note'] = \"nearest\"\n",
        "          queries_w_trg_obj_only.append(expr_info)\n",
        "        if len(behind_objs) == 0:\n",
        "          expr_info = expr_info_template.copy()\n",
        "          expr_info['expr'] = trg_object_expr.replace(\"The\", \"The behindmost\")\n",
        "          expr_info['note'] = \"behindmost\"\n",
        "          queries_w_trg_obj_only.append(expr_info)\n",
        "\n",
        "          expr_info = expr_info_template.copy()\n",
        "          expr_info['expr'] = trg_object_expr.replace(\"The\", \"The furthest\")\n",
        "          expr_info['note'] = \"furthest\"\n",
        "          queries_w_trg_obj_only.append(expr_info)\n",
        "\n",
        "        if len(left_objs) * len(right_objs) * len(front_objs) * len(behind_objs):\n",
        "          expr_info['expr'] = \"{} in the middle.\".format(trg_object_expr)\n",
        "          expr_info['note'] = \"middle\"\n",
        "          queries_w_trg_obj_only.append(expr_info)\n",
        "\n",
        "        # other objects who do not share this attribute\n",
        "        other_objects = list(itertools.chain.from_iterable([v for k, v in ambiguous_property[1].items() if k != attr]))\n",
        "        other_object_ids = [x['idx'] for x in other_objects]\n",
        "\n",
        "        if len(left_objs) * len(right_objs):\n",
        "          ref_obj_1_infos, ref_obj_2_infos = {}, {}\n",
        "\n",
        "          # the trg object is between a left object and a right object\n",
        "          for num_src_attr in range(len(src_properties) + 1):\n",
        "            for ref_obj_1_id in left_objs:\n",
        "              ref_obj_1 = scene_info['objects'][ref_obj_1_id]\n",
        "\n",
        "              if ref_obj_1['idx'] not in other_object_ids:\n",
        "                continue\n",
        "\n",
        "              ref_obj_1_dirs = collect_src_obj_dis_info(ref_obj_1, target_object, other_objects, surroundings)\n",
        "              ref_obj_1_exprs = generate_src_expr(ref_obj_1, ref_obj_1_dirs, num_src_attr=num_src_attr,\n",
        "                                            sort_dirc=sort_direction,\n",
        "                                            properties=src_properties)\n",
        "              \n",
        "              if not len(ref_obj_1_exprs):\n",
        "                continue\n",
        "\n",
        "              for i in range(len(ref_obj_1_exprs)):\n",
        "                ref_obj_1_exprs[i]['src_obj'] = ref_obj_1\n",
        "\n",
        "              ref_obj_1_key = \"ref_obj={}.num_ref_attr={}\".format(ref_obj_1['idx'], num_src_attr)\n",
        "\n",
        "              if ref_obj_1_key not in ref_obj_1_infos:\n",
        "                ref_obj_1_infos[ref_obj_1_key] = []\n",
        "              ref_obj_1_infos[ref_obj_1_key] += ref_obj_1_exprs\n",
        "\n",
        "            for ref_obj_2_id in right_objs:\n",
        "              ref_obj_2 = scene_info['objects'][ref_obj_2_id]\n",
        "\n",
        "              if ref_obj_2['idx'] not in other_object_ids:\n",
        "                continue\n",
        "\n",
        "              ref_obj_2_dirs = collect_src_obj_dis_info(ref_obj_2, target_object, other_objects, surroundings)\n",
        "              ref_obj_2_exprs = generate_src_expr(ref_obj_2, ref_obj_2_dirs, num_src_attr=num_src_attr,\n",
        "                                            sort_dirc=sort_direction,\n",
        "                                            properties=src_properties)\n",
        "              \n",
        "              if not len(ref_obj_2_exprs):\n",
        "                continue\n",
        "\n",
        "              for i in range(len(ref_obj_2_exprs)):\n",
        "                ref_obj_2_exprs[i]['src_obj'] = ref_obj_2\n",
        "\n",
        "              ref_obj_2_key = \"ref_obj={}.num_ref_attr={}\".format(ref_obj_2['idx'], num_src_attr)\n",
        "\n",
        "              if ref_obj_2_key not in ref_obj_2_infos:\n",
        "                ref_obj_2_infos[ref_obj_2_key] = []\n",
        "              ref_obj_2_infos[ref_obj_2_key] += ref_obj_2_exprs\n",
        "              \n",
        "          all_between_exprs = set()\n",
        "\n",
        "          for ref_obj_1_key in ref_obj_1_infos.keys():\n",
        "            for ref_obj_2_key in ref_obj_2_infos.keys():\n",
        "              ref_obj_1_num_attr = int(re.match(num_ref_attr_pattern, ref_obj_1_key).groups()[1])\n",
        "              ref_obj_2_num_attr = int(re.match(num_ref_attr_pattern, ref_obj_2_key).groups()[1])\n",
        "\n",
        "              if ref_obj_1_num_attr != ref_obj_2_num_attr:\n",
        "                # the two referring objects use the same number of attributes\n",
        "                continue\n",
        "\n",
        "              ref_obj_1_exprs, ref_obj_2_exprs = ref_obj_1_infos[ref_obj_1_key], ref_obj_2_infos[ref_obj_2_key]  \n",
        "\n",
        "              for ref_obj_1_expr in ref_obj_1_exprs:\n",
        "\n",
        "                if ref_obj_1_expr['relative_dis']:\n",
        "                  continue\n",
        "\n",
        "                for ref_obj_2_expr in ref_obj_2_exprs:\n",
        "\n",
        "                  if ref_obj_2_expr['relative_dis']:\n",
        "                    continue\n",
        "\n",
        "                  if not distinguish_obj(ref_obj_1_expr, ref_obj_2_expr):\n",
        "                    # The exprs to ref_obj_1 and ref_obj_2 should be distinguishable\n",
        "                    num_avoid += 1\n",
        "                    continue\n",
        "\n",
        "                  if any([left_and_right_between_indicator(trg_obj, ref_obj_1_expr['src_obj'], ref_obj_2_expr['src_obj']) for trg_obj in other_non_target_ambiguous_objs]):\n",
        "                    # The other ambiguous objects does not meet the critieria\n",
        "                    continue\n",
        "\n",
        "                  between_expr_info = ref_obj_1_expr.copy()\n",
        "\n",
        "                  between_expr = \"{} that is between {} and {}.\".format(trg_object_expr, ref_obj_1_expr['src_expr'], ref_obj_2_expr['src_expr'])\n",
        "\n",
        "                  if between_expr in all_between_exprs:\n",
        "                    continue\n",
        "\n",
        "                  all_between_exprs.add(between_expr)\n",
        "                  between_expr_info['scene_id'] = scene_idx\n",
        "                  between_expr_info['src_obj'] = [ref_obj_1_expr['src_obj'], ref_obj_2_expr['src_obj']]\n",
        "                  between_expr_info['trg_obj'] = target_object\n",
        "                  between_expr_info['trg_obj_max_iou'] = max_iou\n",
        "                  between_expr_info['trg_surrounding'] = {\"left\": len(left_objs), \"right\": len(right_objs), \"front\": len(front_objs), \"behind\": len(behind_objs)}\n",
        "                  between_expr_info['trg_attr'] = [ambiguous_property[0]] + other_trg_pprties[:num_trg_attr-1]\n",
        "                  between_expr_info[\"num_trg_att\"] = len(src_expr['trg_attr'])\n",
        "\n",
        "                  between_expr_info['expr'] = between_expr\n",
        "                  between_expr_info['src_expr'] = [ref_obj_1_expr['src_expr'], ref_obj_2_expr['src_expr']]\n",
        "                  between_expr_info['dirc'] = [ref_obj_1_expr['dirc'], ref_obj_2_expr['dirc']]\n",
        "                  between_expr_info['dis_pixel_dirc'] = [ref_obj_1_expr['dis_pixel_dirc'], ref_obj_2_expr['dis_pixel_dirc']]\n",
        "                  between_expr_info['rank_dirc'] = [ref_obj_1_expr['rank_dirc'], ref_obj_2_expr['rank_dirc']]\n",
        "                  between_expr_info['note'] = \"between.left-right.num_src_attr={}\".format(ref_obj_1_num_attr)\n",
        "                  between_expr_info['image_filename'] = img_name\n",
        "                  queries_w_src_obj.append(between_expr_info)\n",
        "                  \n",
        "\n",
        "        for other_obj in other_objects:\n",
        "          other_obj_dirs = collect_src_obj_dis_info(other_obj, target_object, other_objects, surroundings)\n",
        "\n",
        "          for num_src_attr in range(len(src_properties)):\n",
        "            # check uniqueness (on a different direction)\n",
        "            src_exprs = generate_src_expr(other_obj, other_obj_dirs, num_src_attr=num_src_attr+1,\n",
        "                                          sort_dirc=sort_direction,\n",
        "                                          properties=src_properties)\n",
        "            \n",
        "\n",
        "            for src_expr in src_exprs:\n",
        "              src_expr['scene_id'] = scene_idx\n",
        "              src_expr['src_obj'] = other_obj\n",
        "              src_expr['trg_obj'] = target_object\n",
        "              src_expr['trg_obj_max_iou'] = max_iou\n",
        "              src_expr['trg_surrounding'] = {\"left\": len(left_objs), \"right\": len(right_objs), \"front\": len(front_objs), \"behind\": len(behind_objs)}\n",
        "              src_expr['trg_attr'] = [ambiguous_property[0]] + other_trg_pprties[:num_trg_attr-1]\n",
        "              src_expr[\"num_trg_att\"] = len(src_expr['trg_attr'])\n",
        "              src_expr[\"expr\"] = \"{} that is {}.\".format(trg_object_expr, src_expr['expr']) if src_expr['relative_dis'] else \"{} that is {} {}.\".format(trg_object_expr, dirc2expr[src_expr['dirc']], src_expr['expr'])\n",
        "              src_expr[\"note\"] = 'relative_dis' if src_expr['relative_dis'] else None\n",
        "              src_expr['image_filename'] = img_name\n",
        "              queries_w_src_obj.append(src_expr)\n",
        "        # print(trg_object_expr, \"scene_id={} #obj left={} right={} front={} behind={}\\n\".format(\n",
        "        #     scene_idx, len(left_objs), len(right_objs), len(front_objs), len(behind_objs)\n",
        "        # ))\n",
        "  print(\"scene_id: {} trg_only: {} w_src_obj: {} num_avoid={}\".format(scene_idx, len(queries_w_trg_obj_only), len(queries_w_src_obj), num_avoid))"
      ],
      "metadata": {
        "id": "FhXIxD4Uz2IG"
      },
      "execution_count": 7,
      "outputs": []
    },
    {
      "cell_type": "code",
      "source": [
        "[left_and_right_between_indicator(trg_obj, ref_obj_1_expr['src_obj'], ref_obj_2_expr['src_obj']) for trg_obj in other_non_target_ambiguous_objs]"
      ],
      "metadata": {
        "colab": {
          "base_uri": "https://localhost:8080/"
        },
        "id": "MrGmzxDCGgq7",
        "outputId": "78d188f7-4381-47d8-9a7e-7cf9f9677bc4"
      },
      "execution_count": 31,
      "outputs": [
        {
          "output_type": "execute_result",
          "data": {
            "text/plain": [
              "[False, False, False, False, False]"
            ]
          },
          "metadata": {},
          "execution_count": 31
        }
      ]
    },
    {
      "cell_type": "code",
      "source": [
        "[(x['expr'], x['note'], x['trg_obj'], x[\"num_src_attr\"]) for x in queries_w_src_obj[:10]]"
      ],
      "metadata": {
        "id": "MFPkk7YE3T6S"
      },
      "execution_count": null,
      "outputs": []
    },
    {
      "cell_type": "code",
      "source": [
        "expr_save_path = '/content/drive/MyDrive/Referal_expr'\n",
        "expr_save_path = \"/content\"\n",
        "\n",
        "version = 2\n",
        "\n",
        "expr_save_path = \"/content/drive/MyDrive/Profile/Projects/NLP/Proposition/data/expressions\"\n",
        "\n",
        "with open(join(expr_save_path, \"expr.trg_obj_only.trg_attr={}.num_scene={}.v{}.json\".format(num_trg_attr, max_num_images, version)), \"w\") as fp:\n",
        "  for x in queries_w_trg_obj_only:\n",
        "    fp.write(json.dumps(x) + \"\\n\")\n",
        "  fp.close()\n",
        "\n",
        "with open(join(expr_save_path, \"expr.src_trg_obj.trg_attr={}.num_scene={}.v{}.json\".format(num_trg_attr, max_num_images, version)), \"w\") as fp:\n",
        "  for x in queries_w_src_obj:\n",
        "    fp.write(json.dumps(x) + \"\\n\")\n",
        "  fp.close()"
      ],
      "metadata": {
        "id": "th-UGap3nDmC"
      },
      "execution_count": 34,
      "outputs": []
    },
    {
      "cell_type": "code",
      "source": [
        "! zip -r /content/expr.zip /content/expr"
      ],
      "metadata": {
        "id": "KdJJfGZfKUEV"
      },
      "execution_count": null,
      "outputs": []
    },
    {
      "cell_type": "code",
      "execution_count": null,
      "metadata": {
        "id": "DeFSY8lQtUG-"
      },
      "outputs": [],
      "source": [
        "!export CUDA_LAUNCH_BLOCKING=1\n",
        "\n",
        "pil_image = Image.open(BytesIO(imgdata)).convert(\"RGB\")\n",
        "image = np.array(pil_image)[:, :, [2, 1, 0]]\n",
        "caption = 'The cyan sqaure.' # the caption can also be the simple concatonation of some random categories.\n",
        "result, _ = glip_demo.run_on_web_image(image, caption, 0.5)\n",
        "imshow(result, caption)"
      ]
    },
    {
      "cell_type": "code",
      "execution_count": null,
      "metadata": {
        "id": "9wdXLUM3_3X5"
      },
      "outputs": [],
      "source": [
        "!nvcc --version\n",
        "!nvidia-smi"
      ]
    },
    {
      "cell_type": "markdown",
      "source": [
        "### Load CLEVR"
      ],
      "metadata": {
        "id": "GXil_yv5VI7Z"
      }
    },
    {
      "cell_type": "code",
      "execution_count": null,
      "metadata": {
        "id": "HtHPgxkr_8ca"
      },
      "outputs": [],
      "source": [
        "clevr_ref_expr_path = \"/content/drive/MyDrive/Referal_expr/data/CLEVR\""
      ]
    },
    {
      "cell_type": "code",
      "source": [
        "with open(join(clevr_ref_expr_path, 'clevr_ref+_train_refexps.json'), \"r\") as fp:\n",
        "  ref_expr_data = json.load(fp)"
      ],
      "metadata": {
        "id": "cdI1fBzmV09l"
      },
      "execution_count": null,
      "outputs": []
    },
    {
      "cell_type": "code",
      "source": [
        "ref_expr_data.keys()"
      ],
      "metadata": {
        "id": "-l4tFNT3WCaX"
      },
      "execution_count": null,
      "outputs": []
    },
    {
      "cell_type": "code",
      "source": [
        "ref_expr_data['refexps'][0]"
      ],
      "metadata": {
        "id": "Sx_c62fzWYXr"
      },
      "execution_count": null,
      "outputs": []
    },
    {
      "cell_type": "code",
      "source": [],
      "metadata": {
        "id": "BX20YT1IWboM"
      },
      "execution_count": null,
      "outputs": []
    }
  ],
  "metadata": {
    "colab": {
      "provenance": [],
      "collapsed_sections": [],
      "include_colab_link": true
    },
    "gpuClass": "premium",
    "kernelspec": {
      "display_name": "Python 3",
      "name": "python3"
    },
    "language_info": {
      "name": "python"
    }
  },
  "nbformat": 4,
  "nbformat_minor": 0
}